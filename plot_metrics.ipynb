{
 "cells": [
  {
   "cell_type": "code",
   "execution_count": 1,
   "id": "imposed-heart",
   "metadata": {},
   "outputs": [],
   "source": [
    "import json\n",
    "import os\n",
    "from functools import partial\n",
    "from pathlib import Path\n",
    "\n",
    "import matplotlib.pyplot as plt\n",
    "import numpy as np\n",
    "import pandas as pd\n",
    "from scipy.interpolate import interp1d\n",
    "from scipy.signal import savgol_filter\n",
    "from statsmodels.distributions import ECDF\n",
    "\n",
    "import plot_metrics as pm"
   ]
  },
  {
   "cell_type": "code",
   "execution_count": 2,
   "id": "productive-retirement",
   "metadata": {},
   "outputs": [],
   "source": [
    "model=\"qm9\"\n",
    "metrics=[\n",
    "    (\"Mean Square Error\", \"loss\"),\n",
    "    (\"Mean Absolute Error\", \"mean_absolute_error\"),\n",
    "    (\"Validation Mean Square Error\", \"val_loss\"),\n",
    "    (\"Validation Mean Absolute Error\", \"val_mean_absolute_error\"),\n",
    "]"
   ]
  },
  {
   "cell_type": "code",
   "execution_count": 3,
   "id": "innocent-magnet",
   "metadata": {},
   "outputs": [],
   "source": [
    "# model=\"radio-resource-management\"\n",
    "# metrics=[\n",
    "#     (\"Sum Rate Loss\", \"loss\"),\n",
    "#     (\"WMMSE Sum Rate Ratio\", \"sum_rate_metric\"),\n",
    "#     (\"Validation Sum Rate Loss\", \"val_loss\"),\n",
    "#     (\"Validation WMMSE Sum Rate Ratio\", \"val_sum_rate_metric\"),\n",
    "# ]"
   ]
  },
  {
   "cell_type": "code",
   "execution_count": 4,
   "id": "purple-stack",
   "metadata": {},
   "outputs": [],
   "source": [
    "model_labels=[\n",
    "    (\"GNN TF2\", \"gnn\"),\n",
    "    (\"iGNNition\", \"experiment\"),\n",
    "]\n",
    "output_dir=Path(\"plots\")"
   ]
  },
  {
   "cell_type": "code",
   "execution_count": 5,
   "id": "specific-income",
   "metadata": {},
   "outputs": [
    {
     "name": "stdout",
     "output_type": "stream",
     "text": [
      "Found 4 log directories, extracting stats...\n"
     ]
    }
   ],
   "source": [
    "log_subfolder = \"logs\"\n",
    "log_dir = Path(f\"ignnition/{model}/{log_subfolder}\")\n",
    "log_dir.mkdir(parents=True, exist_ok=True)\n",
    "output_dir.mkdir(parents=True, exist_ok=True)\n",
    "\n",
    "runs = [_dir for _dir in log_dir.glob(\"*\") if _dir.is_dir()]\n",
    "print(f\"Found {len(runs)} log directories, extracting stats...\")"
   ]
  },
  {
   "cell_type": "code",
   "execution_count": 6,
   "id": "circular-baghdad",
   "metadata": {},
   "outputs": [
    {
     "name": "stdout",
     "output_type": "stream",
     "text": [
      "Stats extracted, making plots...\n"
     ]
    }
   ],
   "source": [
    "stats = pm.get_stats(runs, metrics, model_labels)\n",
    "print(\"Stats extracted, making plots...\")"
   ]
  },
  {
   "cell_type": "code",
   "execution_count": 18,
   "id": "exceptional-directive",
   "metadata": {},
   "outputs": [
    {
     "data": {
      "text/html": [
       "<div>\n",
       "<style scoped>\n",
       "    .dataframe tbody tr th:only-of-type {\n",
       "        vertical-align: middle;\n",
       "    }\n",
       "\n",
       "    .dataframe tbody tr th {\n",
       "        vertical-align: top;\n",
       "    }\n",
       "\n",
       "    .dataframe thead th {\n",
       "        text-align: right;\n",
       "    }\n",
       "</style>\n",
       "<table border=\"1\" class=\"dataframe\">\n",
       "  <thead>\n",
       "    <tr style=\"text-align: right;\">\n",
       "      <th></th>\n",
       "      <th>loss</th>\n",
       "      <th>mean_absolute_error</th>\n",
       "      <th>val_loss</th>\n",
       "      <th>val_mean_absolute_error</th>\n",
       "      <th>epoch</th>\n",
       "    </tr>\n",
       "  </thead>\n",
       "  <tbody>\n",
       "    <tr>\n",
       "      <th>0</th>\n",
       "      <td>1.533597</td>\n",
       "      <td>0.928917</td>\n",
       "      <td>1.155981</td>\n",
       "      <td>0.785970</td>\n",
       "      <td>1.0</td>\n",
       "    </tr>\n",
       "    <tr>\n",
       "      <th>1</th>\n",
       "      <td>1.182410</td>\n",
       "      <td>0.789143</td>\n",
       "      <td>1.035764</td>\n",
       "      <td>0.741607</td>\n",
       "      <td>2.0</td>\n",
       "    </tr>\n",
       "    <tr>\n",
       "      <th>2</th>\n",
       "      <td>1.070482</td>\n",
       "      <td>0.744941</td>\n",
       "      <td>0.949335</td>\n",
       "      <td>0.704607</td>\n",
       "      <td>3.0</td>\n",
       "    </tr>\n",
       "    <tr>\n",
       "      <th>0</th>\n",
       "      <td>1.508539</td>\n",
       "      <td>0.903283</td>\n",
       "      <td>1.229719</td>\n",
       "      <td>0.797117</td>\n",
       "      <td>1.0</td>\n",
       "    </tr>\n",
       "    <tr>\n",
       "      <th>1</th>\n",
       "      <td>1.222826</td>\n",
       "      <td>0.790043</td>\n",
       "      <td>1.263000</td>\n",
       "      <td>0.799900</td>\n",
       "      <td>2.0</td>\n",
       "    </tr>\n",
       "    <tr>\n",
       "      <th>2</th>\n",
       "      <td>1.167649</td>\n",
       "      <td>0.758606</td>\n",
       "      <td>1.116724</td>\n",
       "      <td>0.766399</td>\n",
       "      <td>3.0</td>\n",
       "    </tr>\n",
       "  </tbody>\n",
       "</table>\n",
       "</div>"
      ],
      "text/plain": [
       "       loss  mean_absolute_error  val_loss  val_mean_absolute_error  epoch\n",
       "0  1.533597             0.928917  1.155981                 0.785970    1.0\n",
       "1  1.182410             0.789143  1.035764                 0.741607    2.0\n",
       "2  1.070482             0.744941  0.949335                 0.704607    3.0\n",
       "0  1.508539             0.903283  1.229719                 0.797117    1.0\n",
       "1  1.222826             0.790043  1.263000                 0.799900    2.0\n",
       "2  1.167649             0.758606  1.116724                 0.766399    3.0"
      ]
     },
     "execution_count": 18,
     "metadata": {},
     "output_type": "execute_result"
    }
   ],
   "source": [
    "stats[\"iGNNition\"]"
   ]
  },
  {
   "cell_type": "code",
   "execution_count": 23,
   "id": "formed-medicare",
   "metadata": {},
   "outputs": [
    {
     "data": {
      "text/plain": [
       "<AxesSubplot:xlabel='epoch'>"
      ]
     },
     "execution_count": 23,
     "metadata": {},
     "output_type": "execute_result"
    },
    {
     "data": {
      "image/png": "[encoded data removed]",
      "text/plain": [
       "<Figure size 432x288 with 1 Axes>"
      ]
     },
     "metadata": {
      "needs_background": "light"
     },
     "output_type": "display_data"
    }
   ],
   "source": [
    "stats[\"iGNNition\"].groupby(\"epoch\").mean().reset_index().plot(y=\"loss\", x=\"epoch\")"
   ]
  },
  {
   "cell_type": "code",
   "execution_count": 25,
   "id": "lasting-courage",
   "metadata": {},
   "outputs": [],
   "source": [
    "# pm.ecdf_plots(model, stats, metrics, output_dir, smooth=True)"
   ]
  },
  {
   "cell_type": "code",
   "execution_count": null,
   "id": "limited-quarter",
   "metadata": {},
   "outputs": [],
   "source": []
  }
 ],
 "metadata": {
  "kernelspec": {
   "display_name": "gnn",
   "language": "python",
   "name": "gnn"
  },
  "language_info": {
   "codemirror_mode": {
    "name": "ipython",
    "version": 3
   },
   "file_extension": ".py",
   "mimetype": "text/x-python",
   "name": "python",
   "nbconvert_exporter": "python",
   "pygments_lexer": "ipython3",
   "version": "3.8.10"
  }
 },
 "nbformat": 4,
 "nbformat_minor": 5
}
