{
 "cells": [
  {
   "cell_type": "code",
   "execution_count": 1,
   "id": "imposed-heart",
   "metadata": {},
   "outputs": [],
   "source": [
    "import json\n",
    "import os\n",
    "from functools import partial\n",
    "from pathlib import Path\n",
    "\n",
    "import matplotlib.pyplot as plt\n",
    "import numpy as np\n",
    "import pandas as pd\n",
    "from scipy.interpolate import interp1d\n",
    "from scipy.signal import savgol_filter\n",
    "from statsmodels.distributions import ECDF\n",
    "\n",
    "import plot_metrics as pm"
   ]
  },
  {
   "cell_type": "code",
   "execution_count": 2,
   "id": "productive-retirement",
   "metadata": {},
   "outputs": [],
   "source": [
    "model=\"qm9\"\n",
    "metrics=[\n",
    "    (\"Mean Square Error\", \"loss\"),\n",
    "    (\"Mean Absolute Error\", \"mean_absolute_error\"),\n",
    "    (\"Validation Mean Square Error\", \"val_loss\"),\n",
    "    (\"Validation Mean Absolute Error\", \"val_mean_absolute_error\"),\n",
    "]"
   ]
  },
  {
   "cell_type": "code",
   "execution_count": 3,
   "id": "innocent-magnet",
   "metadata": {},
   "outputs": [],
   "source": [
    "model=\"radio-resource-management\"\n",
    "metrics=[\n",
    "    (\"Sum Rate Loss\", \"loss\"),\n",
    "    (\"WMMSE Sum Rate Ratio\", \"sum_rate_metric\"),\n",
    "    (\"Validation Sum Rate Loss\", \"val_loss\"),\n",
    "    (\"Validation WMMSE Sum Rate Ratio\", \"val_sum_rate_metric\"),\n",
    "]"
   ]
  },
  {
   "cell_type": "code",
   "execution_count": 4,
   "id": "purple-stack",
   "metadata": {},
   "outputs": [],
   "source": [
    "model_labels=[\n",
    "    (\"GNN TF2\", \"gnn\"),\n",
    "    (\"iGNNition\", \"experiment\"),\n",
    "]\n",
    "output_dir=Path(\"plots\")"
   ]
  },
  {
   "cell_type": "code",
   "execution_count": 5,
   "id": "specific-income",
   "metadata": {},
   "outputs": [
    {
     "name": "stdout",
     "output_type": "stream",
     "text": [
      "Found 220 log directories, extracting stats...\n"
     ]
    }
   ],
   "source": [
    "log_subfolder = \"small_logs\"\n",
    "log_dir = Path(f\"ignnition/{model}/{log_subfolder}\")\n",
    "log_dir.mkdir(parents=True, exist_ok=True)\n",
    "output_dir.mkdir(parents=True, exist_ok=True)\n",
    "\n",
    "runs = [_dir for _dir in log_dir.glob(\"*\") if _dir.is_dir()]\n",
    "print(f\"Found {len(runs)} log directories, extracting stats...\")"
   ]
  },
  {
   "cell_type": "code",
   "execution_count": 6,
   "id": "circular-baghdad",
   "metadata": {},
   "outputs": [
    {
     "name": "stdout",
     "output_type": "stream",
     "text": [
      "Stats extracted, making plots...\n"
     ]
    }
   ],
   "source": [
    "stats = pm.get_stats(runs, metrics, model_labels)\n",
    "print(\"Stats extracted, making plots...\")"
   ]
  },
  {
   "cell_type": "code",
   "execution_count": 7,
   "id": "extended-saying",
   "metadata": {},
   "outputs": [],
   "source": [
    "# ecdf_plots = pm.ecdf_plots(model, stats, metrics, output_dir, smooth=True)\n",
    "# epoch_plots = pm.epoch_plots(model, stats, metrics, output_dir, error_bars=False, smooth=False)\n",
    "# time_plots = pm.time_plots(model, log_dir, output_dir)"
   ]
  },
  {
   "cell_type": "code",
   "execution_count": null,
   "id": "occupied-muslim",
   "metadata": {},
   "outputs": [],
   "source": []
  },
  {
   "cell_type": "code",
   "execution_count": null,
   "id": "environmental-australia",
   "metadata": {},
   "outputs": [],
   "source": []
  }
 ],
 "metadata": {
  "kernelspec": {
   "display_name": "gnn",
   "language": "python",
   "name": "gnn"
  },
  "language_info": {
   "codemirror_mode": {
    "name": "ipython",
    "version": 3
   },
   "file_extension": ".py",
   "mimetype": "text/x-python",
   "name": "python",
   "nbconvert_exporter": "python",
   "pygments_lexer": "ipython3",
   "version": "3.8.10"
  }
 },
 "nbformat": 4,
 "nbformat_minor": 5
}
