{
 "cells": [
  {
   "cell_type": "code",
   "execution_count": 1,
   "metadata": {},
   "outputs": [],
   "source": [
    "%load_ext tensorboard\n",
    "\n",
    "!rm -rf ./data/logs/"
   ]
  },
  {
   "cell_type": "code",
   "execution_count": 2,
   "metadata": {},
   "outputs": [],
   "source": [
    "import json\n",
    "import os\n",
    "import numpy as np\n",
    "import tensorflow as tf\n",
    "import mpnn\n",
    "from typing import Dict\n",
    "\n",
    "tf.keras.backend.clear_session()\n",
    "tensorboard_callback = tf.keras.callbacks.TensorBoard(log_dir=\"logs/fit\")"
   ]
  },
  {
   "cell_type": "code",
   "execution_count": 3,
   "metadata": {},
   "outputs": [
    {
     "data": {
      "text/plain": [
       "GraphInputShapes(node_features=TensorShape([None, 11]), edge_features=TensorShape([None, 5]))"
      ]
     },
     "execution_count": 3,
     "metadata": {},
     "output_type": "execute_result"
    }
   ],
   "source": [
    "data_fn = \"data/qm9/dataset_100.json\"\n",
    "with open(data_fn, \"r\") as fp:\n",
    "    dataset = json.load(fp)\n",
    "graph = dataset[0]\n",
    "element = [list(node.values())[4] for node in graph[\"node_list\"].values()]\n",
    "data_fn = \"data/qm9/dataset_100.json\"\n",
    "with open(data_fn, \"r\") as fp:\n",
    "    dataset = json.load(fp)\n",
    "\n",
    "num_node_features = tf.convert_to_tensor(\n",
    "    [list(node.values()) for node in dataset[0][\"node_list\"].values()]\n",
    ").shape[1]\n",
    "num_edge_features = tf.convert_to_tensor(\n",
    "    [list(dataset[0][\"edge_list\"][key].values()) for key in sorted(dataset[0][\"edge_list\"].keys())]\n",
    ").shape[1]\n",
    "dataShape = mpnn.GraphInputShapes(\n",
    "    node_features=tf.TensorShape((None, num_node_features)),\n",
    "    edge_features=tf.TensorShape((None, num_edge_features))\n",
    ")\n",
    "    \n",
    "def get_data(dataset):\n",
    "    for graph in dataset:\n",
    "        data = mpnn.GraphInput(\n",
    "            node_features=tf.convert_to_tensor([list(node.values()) for node in graph[\"node_list\"].values()]),\n",
    "            edge_features=tf.convert_to_tensor(\n",
    "                [list(graph[\"edge_list\"][key].values()) for key in sorted(graph[\"edge_list\"].keys())]\n",
    "            ),\n",
    "            adjacency_lists=tuple([tf.convert_to_tensor(adj) for adj in graph[\"adjacency\"].values()]),\n",
    "            edge_to_idx={key: sorted(graph[\"edge_list\"].keys()).index(key) for key in graph[\"edge_list\"]}\n",
    "        )\n",
    "        target = tf.constant([graph[\"molecule_props\"][\"dipole_moment\"]])\n",
    "        yield data, target\n",
    "\n",
    "dataShape"
   ]
  },
  {
   "cell_type": "code",
   "execution_count": 4,
   "metadata": {},
   "outputs": [],
   "source": [
    "model = mpnn.MessagePassingNet()\n",
    "model.compile(\n",
    "    optimizer=\"adam\",\n",
    "    loss=\"mse\"\n",
    ")\n",
    "model.build(dataShape)"
   ]
  },
  {
   "cell_type": "code",
   "execution_count": 5,
   "metadata": {},
   "outputs": [
    {
     "name": "stdout",
     "output_type": "stream",
     "text": [
      "Epoch 0: 10.836947441101074\n",
      "Epoch 1: 9.599767684936523\n",
      "Epoch 2: 8.629627227783203\n",
      "Epoch 3: 7.903057098388672\n",
      "Epoch 4: 7.342144012451172\n",
      "Epoch 5: 6.8970184326171875\n",
      "Epoch 6: 6.536951541900635\n",
      "Epoch 7: 6.238076686859131\n",
      "Epoch 8: 5.97803258895874\n",
      "Epoch 9: 5.732377529144287\n"
     ]
    }
   ],
   "source": [
    "n_epochs = 10\n",
    "loss = []\n",
    "for i in range(n_epochs):\n",
    "    for j, (data, y) in enumerate(get_data(dataset)):\n",
    "        info = model.train_step((data, y))\n",
    "        loss.append(info[\"loss\"].numpy())    \n",
    "    print(f\"Epoch {i}: {info['loss'].numpy()}\")"
   ]
  },
  {
   "cell_type": "code",
   "execution_count": 12,
   "metadata": {},
   "outputs": [
    {
     "data": {
      "image/png": "[encoded data removed]",
      "text/plain": [
       "<Figure size 432x288 with 1 Axes>"
      ]
     },
     "metadata": {
      "needs_background": "light"
     },
     "output_type": "display_data"
    }
   ],
   "source": [
    "import numpy as np\n",
    "import matplotlib.pyplot as plt\n",
    "\n",
    "# Create data\n",
    "y = loss\n",
    "x = [i for i in range(n_epochs*len(dataset))]\n",
    "# Plot\n",
    "plt.plot(x, y )\n",
    "plt.show()"
   ]
  }
 ],
 "metadata": {
  "kernelspec": {
   "display_name": "Python 3",
   "language": "python",
   "name": "python3"
  },
  "language_info": {
   "codemirror_mode": {
    "name": "ipython",
    "version": 3
   },
   "file_extension": ".py",
   "mimetype": "text/x-python",
   "name": "python",
   "nbconvert_exporter": "python",
   "pygments_lexer": "ipython3",
   "version": "3.8.2"
  }
 },
 "nbformat": 4,
 "nbformat_minor": 4
}
