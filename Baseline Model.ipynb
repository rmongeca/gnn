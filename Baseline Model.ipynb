{
 "cells": [
  {
   "cell_type": "code",
   "execution_count": 1,
   "metadata": {},
   "outputs": [],
   "source": [
    "import json\n",
    "import os\n",
    "import pickle\n",
    "import numpy as np\n",
    "import tensorflow as tf\n",
    "import mpnn\n",
    "from datetime import datetime\n",
    "from typing import Dict\n",
    "\n",
    "tf.keras.backend.clear_session()\n",
    "np.random.seed(42)"
   ]
  },
  {
   "cell_type": "code",
   "execution_count": 2,
   "metadata": {},
   "outputs": [
    {
     "data": {
      "text/plain": [
       "GraphInputShapes(node_features=TensorShape([None, 11]), edge_features=TensorShape([None, 5]))"
      ]
     },
     "execution_count": 2,
     "metadata": {},
     "output_type": "execute_result"
    }
   ],
   "source": [
    "data_fn = \"data/molecules/mol_100000_0.json\"\n",
    "with open(data_fn, \"r\") as fp:\n",
    "    graph = json.load(fp)\n",
    "num_node_features = tf.convert_to_tensor(\n",
    "    [list(node.values()) for node in graph[\"node_list\"].values()]\n",
    ").shape[1]\n",
    "num_edge_features = tf.convert_to_tensor(\n",
    "    [list(graph[\"edge_list\"][key].values()) for key in sorted(graph[\"edge_list\"].keys())]\n",
    ").shape[1]\n",
    "dataShape = mpnn.GraphInputShapes(\n",
    "    node_features=tf.TensorShape((None, num_node_features)),\n",
    "    edge_features=tf.TensorShape((None, num_edge_features))\n",
    ")\n",
    "    \n",
    "def get_data(molecules_fn):\n",
    "    \"\"\"Data generator for molecule JSON files into GraphInput namedtuples.\"\"\"\n",
    "    for fn in molecules_fn:\n",
    "        with open(fn, \"r\") as fp:\n",
    "            graph = json.load(fp)\n",
    "        data = mpnn.GraphInput(\n",
    "            node_features=tf.convert_to_tensor([list(node.values()) for node in graph[\"node_list\"].values()]),\n",
    "            edge_features=tf.convert_to_tensor(\n",
    "                [list(graph[\"edge_list\"][key].values()) for key in sorted(graph[\"edge_list\"].keys())]\n",
    "            ),\n",
    "            adjacency_lists=tuple([tf.convert_to_tensor(adj) for adj in graph[\"adjacency\"].values()]),\n",
    "            edge_to_idx={key: sorted(graph[\"edge_list\"].keys()).index(key) for key in graph[\"edge_list\"]}\n",
    "        )\n",
    "        target = tf.constant([graph[\"molecule_props\"][\"dipole_moment\"]])\n",
    "        yield data, target\n",
    "\n",
    "dataShape"
   ]
  },
  {
   "cell_type": "code",
   "execution_count": 3,
   "metadata": {},
   "outputs": [],
   "source": [
    "model = mpnn.MessagePassingNet()\n",
    "model.compile(\n",
    "    optimizer=\"adam\",\n",
    "    loss=\"mse\",\n",
    "    metrics=\"mean_absolute_percentage_error\"\n",
    ")\n",
    "model.build(dataShape)"
   ]
  },
  {
   "cell_type": "code",
   "execution_count": 4,
   "metadata": {},
   "outputs": [],
   "source": [
    "data_dir = \"data/molecules/\"\n",
    "molecules_fn = np.array([os.path.join(data_dir, mol) for mol in os.listdir(data_dir)])\n",
    "np.random.shuffle(molecules_fn)\n",
    "validation = molecules_fn[:10000].tolist()\n",
    "train = molecules_fn[10000:].tolist()"
   ]
  },
  {
   "cell_type": "code",
   "execution_count": null,
   "metadata": {},
   "outputs": [],
   "source": [
    "loss = model.fit(get_data(train))"
   ]
  },
  {
   "cell_type": "code",
   "execution_count": null,
   "metadata": {},
   "outputs": [],
   "source": [
    "metric = model.evaluate(get_data(validation))"
   ]
  },
  {
   "cell_type": "code",
   "execution_count": null,
   "metadata": {},
   "outputs": [],
   "source": [
    "with open(\n",
    "    os.path.join(\"data\", f\"{datetime.utcnow().strftime('%Y%m%dT%H')}.pkl\"),\n",
    "    \"wb\"\n",
    ") as fp:\n",
    "    pickle.dump([loss, metric], fp)"
   ]
  },
  {
   "cell_type": "code",
   "execution_count": null,
   "metadata": {},
   "outputs": [],
   "source": []
  }
 ],
 "metadata": {
  "kernelspec": {
   "display_name": "Python 3",
   "language": "python",
   "name": "python3"
  },
  "language_info": {
   "codemirror_mode": {
    "name": "ipython",
    "version": 3
   },
   "file_extension": ".py",
   "mimetype": "text/x-python",
   "name": "python",
   "nbconvert_exporter": "python",
   "pygments_lexer": "ipython3",
   "version": "3.8.2"
  }
 },
 "nbformat": 4,
 "nbformat_minor": 4
}
