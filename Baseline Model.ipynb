{
 "cells": [
  {
   "cell_type": "code",
   "execution_count": 1,
   "metadata": {},
   "outputs": [],
   "source": [
    "import json\n",
    "import os\n",
    "import pickle\n",
    "import numpy as np\n",
    "import tensorflow as tf\n",
    "import mpnn\n",
    "from datetime import datetime\n",
    "from time import time\n",
    "from typing import Dict\n",
    "\n",
    "tf.keras.backend.clear_session()\n",
    "np.random.seed(42)"
   ]
  },
  {
   "cell_type": "code",
   "execution_count": 2,
   "metadata": {},
   "outputs": [],
   "source": [
    "def get_data(molecules_fn, target=\"dipole_moment\"):\n",
    "    \"\"\"Data generator for molecule JSON files into GraphInput namedtuples.\"\"\"\n",
    "    for fn in molecules_fn:\n",
    "        with open(fn, \"r\") as fp:\n",
    "            graph = json.load(fp)\n",
    "        edge_sources = tf.constant(graph.pop(\"edge_sources\"))\n",
    "        edge_targets = tf.constant(graph.pop(\"edge_targets\"))\n",
    "        node_features = tf.stack(\n",
    "            [tf.constant(values, dtype=float) for key, values in graph.items() if \"node_\" in key], axis=1\n",
    "        )\n",
    "        edge_features = tf.stack(\n",
    "            [tf.constant(values, dtype=float) for key, values in graph.items() if \"edge_\" in key], axis=1\n",
    "        )\n",
    "        data = mpnn.GraphInput(\n",
    "            node_features=node_features,\n",
    "            edge_features=edge_features,\n",
    "            edge_sources=edge_sources,\n",
    "            edge_targets=edge_targets\n",
    "        )\n",
    "        y = tf.constant([graph[target]])\n",
    "        yield data, y"
   ]
  },
  {
   "cell_type": "code",
   "execution_count": 3,
   "metadata": {},
   "outputs": [],
   "source": [
    "training_dir = \"data/training\"\n",
    "training_fn = [os.path.join(training_dir, fn) for fn in os.listdir(training_dir) if not fn.startswith(\".\")]\n",
    "test_dir = \"data/test\"\n",
    "test_fn = [os.path.join(test_dir, fn) for fn in os.listdir(test_dir) if not fn.startswith(\".\")]\n",
    "target = \"dipole_moment\"\n",
    "num_node_features=11\n",
    "num_edge_features=5\n",
    "\n",
    "training = tf.data.Dataset.from_generator(\n",
    "    lambda: get_data(training_fn, target),\n",
    "    output_types=((tf.float32, tf.float32, tf.int32, tf.int32), tf.float32),\n",
    "    output_shapes=(\n",
    "        (tf.TensorShape([None, num_node_features]), tf.TensorShape([None, num_edge_features]),\n",
    "         tf.TensorShape([None]), tf.TensorShape([None])),\n",
    "        tf.TensorShape([1])\n",
    "    )\n",
    ")\n",
    "test = tf.data.Dataset.from_generator(\n",
    "    lambda: get_data(test_fn, target),\n",
    "    output_types=((tf.float32, tf.float32, tf.int32, tf.int32), tf.float32),\n",
    "    output_shapes=(\n",
    "        (tf.TensorShape([None, num_node_features]), tf.TensorShape([None, num_edge_features]),\n",
    "         tf.TensorShape([None]), tf.TensorShape([None])),\n",
    "        tf.TensorShape([1])\n",
    "    )\n",
    ")"
   ]
  },
  {
   "cell_type": "code",
   "execution_count": 4,
   "metadata": {},
   "outputs": [],
   "source": [
    "model = mpnn.MessagePassingNet()"
   ]
  },
  {
   "cell_type": "code",
   "execution_count": 5,
   "metadata": {},
   "outputs": [],
   "source": [
    "learning_schedule = tf.keras.optimizers.schedules.PolynomialDecay(\n",
    "    initial_learning_rate=1.935e-4, decay_steps=900, end_learning_rate=1.84e-4, power=1.0\n",
    ")\n",
    "optimizer = tf.keras.optimizers.Adam(learning_rate=learning_schedule)\n",
    "loss = tf.keras.losses.MeanAbsolutePercentageError()\n",
    "metrics = [tf.keras.metrics.MeanSquaredError()]\n",
    "\n",
    "model.compile(\n",
    "    optimizer=optimizer,\n",
    "    loss=loss,\n",
    "    metrics=metrics\n",
    ")"
   ]
  },
  {
   "cell_type": "code",
   "execution_count": null,
   "metadata": {},
   "outputs": [],
   "source": [
    "start = time()\n",
    "loss = model.fit(training, epochs=1)\n",
    "time() - start"
   ]
  },
  {
   "cell_type": "code",
   "execution_count": null,
   "metadata": {},
   "outputs": [],
   "source": [
    "loss[-1]"
   ]
  },
  {
   "cell_type": "code",
   "execution_count": null,
   "metadata": {},
   "outputs": [],
   "source": [
    "start = time()\n",
    "metric = model.evaluate(test)\n",
    "time() - start"
   ]
  },
  {
   "cell_type": "code",
   "execution_count": null,
   "metadata": {},
   "outputs": [],
   "source": [
    "metric"
   ]
  },
  {
   "cell_type": "code",
   "execution_count": null,
   "metadata": {},
   "outputs": [],
   "source": []
  }
 ],
 "metadata": {
  "kernelspec": {
   "display_name": "Python 3",
   "language": "python",
   "name": "python3"
  },
  "language_info": {
   "codemirror_mode": {
    "name": "ipython",
    "version": 3
   },
   "file_extension": ".py",
   "mimetype": "text/x-python",
   "name": "python",
   "nbconvert_exporter": "python",
   "pygments_lexer": "ipython3",
   "version": "3.8.5"
  }
 },
 "nbformat": 4,
 "nbformat_minor": 4
}
