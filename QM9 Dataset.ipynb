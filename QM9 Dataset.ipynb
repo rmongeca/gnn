{
 "cells": [
  {
   "cell_type": "code",
   "execution_count": 1,
   "metadata": {},
   "outputs": [],
   "source": [
    "import json\n",
    "import numpy as np\n",
    "import os\n",
    "import pandas as pd\n",
    "import pysmiles\n",
    "from tqdm.auto import tqdm"
   ]
  },
  {
   "cell_type": "code",
   "execution_count": 2,
   "metadata": {},
   "outputs": [],
   "source": [
    "data_dir = \"data/dsgdb9nsd\"\n",
    "limit = 1000\n",
    "output_fn = \"data/molecules/mol_{id}.json\""
   ]
  },
  {
   "cell_type": "code",
   "execution_count": 3,
   "metadata": {},
   "outputs": [],
   "source": [
    "def process_files(data_dir=\"dsgdb9nsd\", limit=None, output_fn=\"data/mol_{id}.json\", verbose=False):\n",
    "    files = os.listdir(data_dir)\n",
    "    if limit is not None:\n",
    "        files = files[:limit]\n",
    "        name = output_fn.split(\".\")[0]\n",
    "        output_fn = f\"{name}_{limit}.json\"\n",
    "    for file in files[:limit]:\n",
    "        with open(os.path.join(data_dir, file), \"r\") as fp:\n",
    "            lines = [l.replace(\"\\n\", \"\").split(\"\\t\") for l in fp.readlines()]\n",
    "        na = int(lines[0][0])\n",
    "        molecule = {\n",
    "            \"na\": na,\n",
    "            \"molecule_props\": dict(zip(\n",
    "                [\"id\", \"rotational_a\", \"rotational_b\", \"rotational_c\", \"dipole_moment\", \"polarizability\", \"homo_energy\", \"lumo_energy\", \"spatial_extent\", \"internal_energy_0k\", \"internal_energy_298k\", \"free_energy\", \"heat_capacity\"],\n",
    "                [float(e.replace(\"gdb\", \"\").strip()) for e in lines[1][:-1]]\n",
    "            )),\n",
    "            \"coordinates\": [\n",
    "                [c[0], float(c[1].replace(\"*^\", \"e\")), float(c[2].replace(\"*^\", \"e\")), float(c[3].replace(\"*^\", \"e\")), float(c[4].replace(\"*^\", \"e\"))]\n",
    "                for c in lines[2:(na+2)]\n",
    "            ],\n",
    "            \"frequencies\": lines[na+2],\n",
    "            \"smiles\": lines[na+3][0],\n",
    "            \"inchi\": lines[na+4]\n",
    "        }\n",
    "        mol_graph = pysmiles.read_smiles(molecule[\"smiles\"], explicit_hydrogen=True)\n",
    "        edges = list(mol_graph.edges(data=True))\n",
    "        atoms = list(mol_graph.nodes(data=True))\n",
    "        graph = {}\n",
    "        coordinates = molecule[\"coordinates\"]\n",
    "        # Edge features\n",
    "        graph[\"edge_sources\"] = []\n",
    "        graph[\"edge_targets\"] = []\n",
    "        graph[\"edge_distance\"] = []\n",
    "        graph[\"edge_order_1\"] = []\n",
    "        graph[\"edge_order_1_5\"] = []\n",
    "        graph[\"edge_order_2\"] = []\n",
    "        graph[\"edge_order_3\"] = []\n",
    "        for edge in edges:  # Two edges representing both message passing directions\n",
    "            start = np.array(coordinates[edge[0]][1:])\n",
    "            end = np.array(coordinates[edge[1]][1:])\n",
    "            distance = np.sqrt(np.sum(np.square(end - start)))\n",
    "            graph[\"edge_sources\"].extend([edge[0], edge[1]])\n",
    "            graph[\"edge_targets\"].extend([edge[1], edge[0]])\n",
    "            graph[\"edge_distance\"].extend([distance, distance])\n",
    "            edge_order = edge[2][\"order\"]\n",
    "            graph[\"edge_order_1\"].extend([int(edge_order == 1), int(edge_order == 1)])\n",
    "            graph[\"edge_order_1_5\"].extend([int(edge_order == 1.5), int(edge_order == 1.5)])\n",
    "            graph[\"edge_order_2\"].extend([int(edge_order == 2), int(edge_order == 2)])\n",
    "            graph[\"edge_order_3\"].extend([int(edge_order == 3), int(edge_order == 3)])\n",
    "        # Node features\n",
    "        graph[\"node_x\"] = [float(coord[1]) for coord in molecule[\"coordinates\"]]\n",
    "        graph[\"node_y\"] = [float(coord[2]) for coord in molecule[\"coordinates\"]]\n",
    "        graph[\"node_z\"] = [float(coord[3]) for coord in molecule[\"coordinates\"]]\n",
    "        graph[\"node_e\"] = [float(coord[4]) for coord in molecule[\"coordinates\"]]\n",
    "        graph[\"node_element_h\"] = [1 if atom[1][\"element\"] == \"H\" else 0 for atom in atoms]\n",
    "        graph[\"node_element_c\"] = [1 if atom[1][\"element\"] == \"C\" else 0 for atom in atoms]\n",
    "        graph[\"node_element_n\"] = [1 if atom[1][\"element\"] == \"N\" else 0 for atom in atoms]\n",
    "        graph[\"node_element_o\"] = [1 if atom[1][\"element\"] == \"O\" else 0 for atom in atoms]\n",
    "        graph[\"node_element_f\"] = [1 if atom[1][\"element\"] == \"F\" else 0 for atom in atoms]\n",
    "        graph[\"node_charge\"] = [atom[1][\"charge\"] for atom in atoms]\n",
    "        graph[\"node_aromatic\"] = [1 if atom[1][\"aromatic\"] else 0 for atom in atoms]\n",
    "        graph[\"molecule_props\"] = molecule[\"molecule_props\"]\n",
    "        fn = output_fn.format(id=str(molecule[\"molecule_props\"][\"id\"]).replace(\".\", \"_\"))\n",
    "        with open(fn, \"w\") as fp:\n",
    "            json.dump(graph, fp)\n",
    "        if verbose:\n",
    "            print(f\"Processed file {file} and saved to {fn}.\")"
   ]
  },
  {
   "cell_type": "code",
   "execution_count": 4,
   "metadata": {},
   "outputs": [],
   "source": [
    "process_files(data_dir=data_dir, limit=limit, output_fn=output_fn)"
   ]
  },
  {
   "cell_type": "markdown",
   "metadata": {},
   "source": [
    "### Tensorflow Datset"
   ]
  },
  {
   "cell_type": "code",
   "execution_count": 5,
   "metadata": {},
   "outputs": [],
   "source": [
    "import tensorflow as tf\n",
    "from typing import NamedTuple\n",
    "\n",
    "class GraphInput(NamedTuple):\n",
    "    \"\"\"Input named tuple for the MessagePassingNet.\"\"\"\n",
    "    node_features: tf.Tensor\n",
    "    edge_features: tf.Tensor\n",
    "    edge_sources: tf.Tensor\n",
    "    edge_targets: tf.Tensor"
   ]
  },
  {
   "cell_type": "code",
   "execution_count": 6,
   "metadata": {},
   "outputs": [
    {
     "name": "stdout",
     "output_type": "stream",
     "text": [
      "Target: dipole_moment=2.532\n",
      "- edge_sources    length: 44\n",
      "- edge_targets    length: 44\n",
      "- edge_distance   length: 44\n",
      "- edge_order_1    length: 44\n",
      "- edge_order_1_5  length: 44\n",
      "- edge_order_2    length: 44\n",
      "- edge_order_3    length: 44\n",
      "- node_x          length: 21\n",
      "- node_y          length: 21\n",
      "- node_z          length: 21\n",
      "- node_e          length: 21\n",
      "- node_element_h  length: 21\n",
      "- node_element_c  length: 21\n",
      "- node_element_n  length: 21\n",
      "- node_element_o  length: 21\n",
      "- node_element_f  length: 21\n",
      "- node_charge     length: 21\n",
      "- node_aromatic   length: 21\n",
      "- molecule_props  length: 13\n"
     ]
    }
   ],
   "source": [
    "mol_dir = \"data/molecules\"\n",
    "filename = os.listdir(mol_dir)[0]\n",
    "target = \"dipole_moment\"\n",
    "\n",
    "graph = json.load(open(os.path.join(mol_dir, filename)))\n",
    "y = graph[\"molecule_props\"][target]\n",
    "\n",
    "print(f\"Target: {target}={y}\")\n",
    "for key, value in graph.items():\n",
    "    print(f\"- {key:15} length: {len(value)}\")"
   ]
  },
  {
   "cell_type": "code",
   "execution_count": null,
   "metadata": {},
   "outputs": [],
   "source": []
  }
 ],
 "metadata": {
  "kernelspec": {
   "display_name": "Python 3",
   "language": "python",
   "name": "python3"
  },
  "language_info": {
   "codemirror_mode": {
    "name": "ipython",
    "version": 3
   },
   "file_extension": ".py",
   "mimetype": "text/x-python",
   "name": "python",
   "nbconvert_exporter": "python",
   "pygments_lexer": "ipython3",
   "version": "3.8.5"
  }
 },
 "nbformat": 4,
 "nbformat_minor": 4
}
